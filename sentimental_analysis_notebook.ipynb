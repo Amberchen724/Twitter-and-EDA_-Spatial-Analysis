{
 "cells": [
  {
   "cell_type": "code",
   "execution_count": 97,
   "metadata": {},
   "outputs": [],
   "source": [
    "import os\n",
    "import glob\n",
    "import pandas as pd\n",
    "import copy \n",
    "os.chdir(\"/Users/amber/Documents/SpatialAnalysis/python-twitter-examples-master/useable_data\")"
   ]
  },
  {
   "cell_type": "markdown",
   "metadata": {},
   "source": [
    "## Data Cleaning "
   ]
  },
  {
   "cell_type": "code",
   "execution_count": 98,
   "metadata": {},
   "outputs": [],
   "source": [
    "extension = 'csv'\n",
    "all_filenames = [i for i in glob.glob('*.{}'.format(extension))]"
   ]
  },
  {
   "cell_type": "code",
   "execution_count": 99,
   "metadata": {},
   "outputs": [],
   "source": [
    "#combine all files in the list\n",
    "combined_csv = pd.concat([pd.read_csv(f) for f in all_filenames ])\n",
    "#export to csv\n",
    "combined_csv.to_csv( \"combined_csv.csv\", index=False, encoding='utf-8-sig')"
   ]
  },
  {
   "cell_type": "code",
   "execution_count": 100,
   "metadata": {},
   "outputs": [
    {
     "data": {
      "text/html": [
       "<div>\n",
       "<style scoped>\n",
       "    .dataframe tbody tr th:only-of-type {\n",
       "        vertical-align: middle;\n",
       "    }\n",
       "\n",
       "    .dataframe tbody tr th {\n",
       "        vertical-align: top;\n",
       "    }\n",
       "\n",
       "    .dataframe thead th {\n",
       "        text-align: right;\n",
       "    }\n",
       "</style>\n",
       "<table border=\"1\" class=\"dataframe\">\n",
       "  <thead>\n",
       "    <tr style=\"text-align: right;\">\n",
       "      <th></th>\n",
       "      <th>user</th>\n",
       "      <th>text</th>\n",
       "      <th>latitude</th>\n",
       "      <th>longitude</th>\n",
       "    </tr>\n",
       "  </thead>\n",
       "  <tbody>\n",
       "    <tr>\n",
       "      <th>0</th>\n",
       "      <td>NY_StudioSchool</td>\n",
       "      <td>Join us at the NYSS DUMBO Sculpture Studio and...</td>\n",
       "      <td>40.704102</td>\n",
       "      <td>-73.987068</td>\n",
       "    </tr>\n",
       "    <tr>\n",
       "      <th>1</th>\n",
       "      <td>delablanca4life</td>\n",
       "      <td>New look and journey ❤🙏🏼❤ .. Yesterday her dau...</td>\n",
       "      <td>40.679125</td>\n",
       "      <td>-73.973817</td>\n",
       "    </tr>\n",
       "    <tr>\n",
       "      <th>2</th>\n",
       "      <td>delablanca4life</td>\n",
       "      <td>New look and journey ❤🙏🏼❤ .. Yesterday her dau...</td>\n",
       "      <td>40.679125</td>\n",
       "      <td>-73.973817</td>\n",
       "    </tr>\n",
       "    <tr>\n",
       "      <th>3</th>\n",
       "      <td>iamjennifair</td>\n",
       "      <td>Mommy I’m on TV!!!! 😩😍😭🙌🏽 @brictv that is ❤️❤️...</td>\n",
       "      <td>40.688340</td>\n",
       "      <td>-73.979140</td>\n",
       "    </tr>\n",
       "    <tr>\n",
       "      <th>4</th>\n",
       "      <td>stephenaaron05</td>\n",
       "      <td>I'm at MTA Subway - R Train - @nyctsubwayscoop...</td>\n",
       "      <td>40.690547</td>\n",
       "      <td>-73.981869</td>\n",
       "    </tr>\n",
       "  </tbody>\n",
       "</table>\n",
       "</div>"
      ],
      "text/plain": [
       "              user                                               text  \\\n",
       "0  NY_StudioSchool  Join us at the NYSS DUMBO Sculpture Studio and...   \n",
       "1  delablanca4life  New look and journey ❤🙏🏼❤ .. Yesterday her dau...   \n",
       "2  delablanca4life  New look and journey ❤🙏🏼❤ .. Yesterday her dau...   \n",
       "3     iamjennifair  Mommy I’m on TV!!!! 😩😍😭🙌🏽 @brictv that is ❤️❤️...   \n",
       "4   stephenaaron05  I'm at MTA Subway - R Train - @nyctsubwayscoop...   \n",
       "\n",
       "    latitude  longitude  \n",
       "0  40.704102 -73.987068  \n",
       "1  40.679125 -73.973817  \n",
       "2  40.679125 -73.973817  \n",
       "3  40.688340 -73.979140  \n",
       "4  40.690547 -73.981869  "
      ]
     },
     "execution_count": 100,
     "metadata": {},
     "output_type": "execute_result"
    }
   ],
   "source": [
    "data = pd.read_csv('combined_csv.csv', dtype={'text': bytes})\n",
    "data.head()"
   ]
  },
  {
   "cell_type": "code",
   "execution_count": 101,
   "metadata": {},
   "outputs": [],
   "source": [
    "#data['text'] = data['text'].astype(str)"
   ]
  },
  {
   "cell_type": "code",
   "execution_count": 102,
   "metadata": {},
   "outputs": [],
   "source": [
    "#data['text'] = data['text'].apply(lambda s: s[2:-3].replace(' ', ''))"
   ]
  },
  {
   "cell_type": "code",
   "execution_count": 103,
   "metadata": {
    "scrolled": true
   },
   "outputs": [
    {
     "data": {
      "text/html": [
       "<div>\n",
       "<style scoped>\n",
       "    .dataframe tbody tr th:only-of-type {\n",
       "        vertical-align: middle;\n",
       "    }\n",
       "\n",
       "    .dataframe tbody tr th {\n",
       "        vertical-align: top;\n",
       "    }\n",
       "\n",
       "    .dataframe thead th {\n",
       "        text-align: right;\n",
       "    }\n",
       "</style>\n",
       "<table border=\"1\" class=\"dataframe\">\n",
       "  <thead>\n",
       "    <tr style=\"text-align: right;\">\n",
       "      <th></th>\n",
       "      <th>user</th>\n",
       "      <th>text</th>\n",
       "      <th>latitude</th>\n",
       "      <th>longitude</th>\n",
       "    </tr>\n",
       "  </thead>\n",
       "  <tbody>\n",
       "    <tr>\n",
       "      <th>0</th>\n",
       "      <td>NY_StudioSchool</td>\n",
       "      <td>Join us at the NYSS DUMBO Sculpture Studio and...</td>\n",
       "      <td>40.704102</td>\n",
       "      <td>-73.987068</td>\n",
       "    </tr>\n",
       "    <tr>\n",
       "      <th>1</th>\n",
       "      <td>delablanca4life</td>\n",
       "      <td>New look and journey ❤🙏🏼❤ .. Yesterday her dau...</td>\n",
       "      <td>40.679125</td>\n",
       "      <td>-73.973817</td>\n",
       "    </tr>\n",
       "    <tr>\n",
       "      <th>3</th>\n",
       "      <td>iamjennifair</td>\n",
       "      <td>Mommy I’m on TV!!!! 😩😍😭🙌🏽 @brictv that is ❤️❤️...</td>\n",
       "      <td>40.688340</td>\n",
       "      <td>-73.979140</td>\n",
       "    </tr>\n",
       "    <tr>\n",
       "      <th>4</th>\n",
       "      <td>stephenaaron05</td>\n",
       "      <td>I'm at MTA Subway - R Train - @nyctsubwayscoop...</td>\n",
       "      <td>40.690547</td>\n",
       "      <td>-73.981869</td>\n",
       "    </tr>\n",
       "    <tr>\n",
       "      <th>5</th>\n",
       "      <td>CetraRuddy</td>\n",
       "      <td>Every day is earth day when you’re surrounded ...</td>\n",
       "      <td>40.691520</td>\n",
       "      <td>-73.990610</td>\n",
       "    </tr>\n",
       "  </tbody>\n",
       "</table>\n",
       "</div>"
      ],
      "text/plain": [
       "              user                                               text  \\\n",
       "0  NY_StudioSchool  Join us at the NYSS DUMBO Sculpture Studio and...   \n",
       "1  delablanca4life  New look and journey ❤🙏🏼❤ .. Yesterday her dau...   \n",
       "3     iamjennifair  Mommy I’m on TV!!!! 😩😍😭🙌🏽 @brictv that is ❤️❤️...   \n",
       "4   stephenaaron05  I'm at MTA Subway - R Train - @nyctsubwayscoop...   \n",
       "5       CetraRuddy  Every day is earth day when you’re surrounded ...   \n",
       "\n",
       "    latitude  longitude  \n",
       "0  40.704102 -73.987068  \n",
       "1  40.679125 -73.973817  \n",
       "3  40.688340 -73.979140  \n",
       "4  40.690547 -73.981869  \n",
       "5  40.691520 -73.990610  "
      ]
     },
     "execution_count": 103,
     "metadata": {},
     "output_type": "execute_result"
    }
   ],
   "source": [
    "unique_data = data.drop_duplicates(subset=['text'], keep='first')\n",
    "unique_data.head()"
   ]
  },
  {
   "cell_type": "code",
   "execution_count": 104,
   "metadata": {},
   "outputs": [
    {
     "data": {
      "text/plain": [
       "24262"
      ]
     },
     "execution_count": 104,
     "metadata": {},
     "output_type": "execute_result"
    }
   ],
   "source": [
    "count_row = unique_data.shape[0]\n",
    "count_row"
   ]
  },
  {
   "cell_type": "code",
   "execution_count": 105,
   "metadata": {
    "scrolled": true
   },
   "outputs": [],
   "source": [
    "#unique = unique_data.drop(['Unnamed: 0'], axis=1)\n",
    "#unique.head()"
   ]
  },
  {
   "cell_type": "code",
   "execution_count": 106,
   "metadata": {},
   "outputs": [],
   "source": [
    "#Save uniqe tweets to csv \n",
    "unique_data.to_csv('unique_tweets.csv')"
   ]
  },
  {
   "cell_type": "markdown",
   "metadata": {},
   "source": [
    "## Start Sentiment Analysis"
   ]
  },
  {
   "cell_type": "code",
   "execution_count": 107,
   "metadata": {},
   "outputs": [],
   "source": [
    "#!pip install nltk\n",
    "#!pip install textblob\n",
    "#! pip install preprocessor"
   ]
  },
  {
   "cell_type": "code",
   "execution_count": 108,
   "metadata": {},
   "outputs": [],
   "source": [
    "import nltk\n",
    "import preprocessor as p\n",
    "from textblob import TextBlob"
   ]
  },
  {
   "cell_type": "markdown",
   "metadata": {},
   "source": [
    "# Sentiment Analysis_ TextBolb"
   ]
  },
  {
   "cell_type": "markdown",
   "metadata": {},
   "source": [
    "### Example on how TextBolb works "
   ]
  },
  {
   "cell_type": "code",
   "execution_count": 109,
   "metadata": {},
   "outputs": [
    {
     "name": "stdout",
     "output_type": "stream",
     "text": [
      "Sentiment(polarity=0.62, subjectivity=0.6866666666666666)\n",
      "polarity: 0.62\n",
      "subjectivity: 0.6866666666666666\n"
     ]
    },
    {
     "data": {
      "text/plain": [
       "'\\nOutput:\\n \\nSentiment(polarity=0.62, subjectivity=0.6866666666666666)\\npolarity: 0.62\\nsubjectivity: 0.686666666667\\n'"
      ]
     },
     "execution_count": 109,
     "metadata": {},
     "output_type": "execute_result"
    }
   ],
   "source": [
    "\n",
    "from textblob import TextBlob\n",
    " \n",
    "text = TextBlob(\"It was a wonderful movie. I liked it very much.\")\n",
    " \n",
    "print (text.sentiment)\n",
    "print ('polarity: {}'.format(text.sentiment.polarity))\n",
    "print ('subjectivity: {}'.format(text.sentiment.subjectivity))\n",
    "'''\n",
    "Output:\n",
    " \n",
    "Sentiment(polarity=0.62, subjectivity=0.6866666666666666)\n",
    "polarity: 0.62\n",
    "subjectivity: 0.686666666667\n",
    "'''"
   ]
  },
  {
   "cell_type": "markdown",
   "metadata": {},
   "source": [
    "### Use the testset to text model"
   ]
  },
  {
   "cell_type": "code",
   "execution_count": 110,
   "metadata": {},
   "outputs": [],
   "source": [
    "data= pd.read_csv('unique_tweets.csv')"
   ]
  },
  {
   "cell_type": "code",
   "execution_count": 111,
   "metadata": {},
   "outputs": [
    {
     "data": {
      "text/html": [
       "<div>\n",
       "<style scoped>\n",
       "    .dataframe tbody tr th:only-of-type {\n",
       "        vertical-align: middle;\n",
       "    }\n",
       "\n",
       "    .dataframe tbody tr th {\n",
       "        vertical-align: top;\n",
       "    }\n",
       "\n",
       "    .dataframe thead th {\n",
       "        text-align: right;\n",
       "    }\n",
       "</style>\n",
       "<table border=\"1\" class=\"dataframe\">\n",
       "  <thead>\n",
       "    <tr style=\"text-align: right;\">\n",
       "      <th></th>\n",
       "      <th>Unnamed: 0</th>\n",
       "      <th>user</th>\n",
       "      <th>text</th>\n",
       "      <th>latitude</th>\n",
       "      <th>longitude</th>\n",
       "    </tr>\n",
       "  </thead>\n",
       "  <tbody>\n",
       "    <tr>\n",
       "      <th>0</th>\n",
       "      <td>0</td>\n",
       "      <td>NY_StudioSchool</td>\n",
       "      <td>Join us at the NYSS DUMBO Sculpture Studio and...</td>\n",
       "      <td>40.704102</td>\n",
       "      <td>-73.987068</td>\n",
       "    </tr>\n",
       "    <tr>\n",
       "      <th>1</th>\n",
       "      <td>1</td>\n",
       "      <td>delablanca4life</td>\n",
       "      <td>New look and journey ❤🙏🏼❤ .. Yesterday her dau...</td>\n",
       "      <td>40.679125</td>\n",
       "      <td>-73.973817</td>\n",
       "    </tr>\n",
       "    <tr>\n",
       "      <th>2</th>\n",
       "      <td>3</td>\n",
       "      <td>iamjennifair</td>\n",
       "      <td>Mommy I’m on TV!!!! 😩😍😭🙌🏽 @brictv that is ❤️❤️...</td>\n",
       "      <td>40.688340</td>\n",
       "      <td>-73.979140</td>\n",
       "    </tr>\n",
       "    <tr>\n",
       "      <th>3</th>\n",
       "      <td>4</td>\n",
       "      <td>stephenaaron05</td>\n",
       "      <td>I'm at MTA Subway - R Train - @nyctsubwayscoop...</td>\n",
       "      <td>40.690547</td>\n",
       "      <td>-73.981869</td>\n",
       "    </tr>\n",
       "    <tr>\n",
       "      <th>4</th>\n",
       "      <td>5</td>\n",
       "      <td>CetraRuddy</td>\n",
       "      <td>Every day is earth day when you’re surrounded ...</td>\n",
       "      <td>40.691520</td>\n",
       "      <td>-73.990610</td>\n",
       "    </tr>\n",
       "  </tbody>\n",
       "</table>\n",
       "</div>"
      ],
      "text/plain": [
       "   Unnamed: 0             user  \\\n",
       "0           0  NY_StudioSchool   \n",
       "1           1  delablanca4life   \n",
       "2           3     iamjennifair   \n",
       "3           4   stephenaaron05   \n",
       "4           5       CetraRuddy   \n",
       "\n",
       "                                                text   latitude  longitude  \n",
       "0  Join us at the NYSS DUMBO Sculpture Studio and...  40.704102 -73.987068  \n",
       "1  New look and journey ❤🙏🏼❤ .. Yesterday her dau...  40.679125 -73.973817  \n",
       "2  Mommy I’m on TV!!!! 😩😍😭🙌🏽 @brictv that is ❤️❤️...  40.688340 -73.979140  \n",
       "3  I'm at MTA Subway - R Train - @nyctsubwayscoop...  40.690547 -73.981869  \n",
       "4  Every day is earth day when you’re surrounded ...  40.691520 -73.990610  "
      ]
     },
     "execution_count": 111,
     "metadata": {},
     "output_type": "execute_result"
    }
   ],
   "source": [
    "data.head()"
   ]
  },
  {
   "cell_type": "code",
   "execution_count": 112,
   "metadata": {},
   "outputs": [
    {
     "data": {
      "text/html": [
       "<div>\n",
       "<style scoped>\n",
       "    .dataframe tbody tr th:only-of-type {\n",
       "        vertical-align: middle;\n",
       "    }\n",
       "\n",
       "    .dataframe tbody tr th {\n",
       "        vertical-align: top;\n",
       "    }\n",
       "\n",
       "    .dataframe thead th {\n",
       "        text-align: right;\n",
       "    }\n",
       "</style>\n",
       "<table border=\"1\" class=\"dataframe\">\n",
       "  <thead>\n",
       "    <tr style=\"text-align: right;\">\n",
       "      <th></th>\n",
       "      <th>user</th>\n",
       "      <th>text</th>\n",
       "      <th>latitude</th>\n",
       "      <th>longitude</th>\n",
       "    </tr>\n",
       "  </thead>\n",
       "  <tbody>\n",
       "    <tr>\n",
       "      <th>0</th>\n",
       "      <td>NY_StudioSchool</td>\n",
       "      <td>Join us at the NYSS DUMBO Sculpture Studio and...</td>\n",
       "      <td>40.704102</td>\n",
       "      <td>-73.987068</td>\n",
       "    </tr>\n",
       "    <tr>\n",
       "      <th>1</th>\n",
       "      <td>delablanca4life</td>\n",
       "      <td>New look and journey ❤🙏🏼❤ .. Yesterday her dau...</td>\n",
       "      <td>40.679125</td>\n",
       "      <td>-73.973817</td>\n",
       "    </tr>\n",
       "    <tr>\n",
       "      <th>2</th>\n",
       "      <td>iamjennifair</td>\n",
       "      <td>Mommy I’m on TV!!!! 😩😍😭🙌🏽 @brictv that is ❤️❤️...</td>\n",
       "      <td>40.688340</td>\n",
       "      <td>-73.979140</td>\n",
       "    </tr>\n",
       "    <tr>\n",
       "      <th>3</th>\n",
       "      <td>stephenaaron05</td>\n",
       "      <td>I'm at MTA Subway - R Train - @nyctsubwayscoop...</td>\n",
       "      <td>40.690547</td>\n",
       "      <td>-73.981869</td>\n",
       "    </tr>\n",
       "    <tr>\n",
       "      <th>4</th>\n",
       "      <td>CetraRuddy</td>\n",
       "      <td>Every day is earth day when you’re surrounded ...</td>\n",
       "      <td>40.691520</td>\n",
       "      <td>-73.990610</td>\n",
       "    </tr>\n",
       "  </tbody>\n",
       "</table>\n",
       "</div>"
      ],
      "text/plain": [
       "              user                                               text  \\\n",
       "0  NY_StudioSchool  Join us at the NYSS DUMBO Sculpture Studio and...   \n",
       "1  delablanca4life  New look and journey ❤🙏🏼❤ .. Yesterday her dau...   \n",
       "2     iamjennifair  Mommy I’m on TV!!!! 😩😍😭🙌🏽 @brictv that is ❤️❤️...   \n",
       "3   stephenaaron05  I'm at MTA Subway - R Train - @nyctsubwayscoop...   \n",
       "4       CetraRuddy  Every day is earth day when you’re surrounded ...   \n",
       "\n",
       "    latitude  longitude  \n",
       "0  40.704102 -73.987068  \n",
       "1  40.679125 -73.973817  \n",
       "2  40.688340 -73.979140  \n",
       "3  40.690547 -73.981869  \n",
       "4  40.691520 -73.990610  "
      ]
     },
     "execution_count": 112,
     "metadata": {},
     "output_type": "execute_result"
    }
   ],
   "source": [
    "unique = data.drop(['Unnamed: 0'], axis=1)\n",
    "unique.head()"
   ]
  },
  {
   "cell_type": "code",
   "execution_count": 113,
   "metadata": {},
   "outputs": [
    {
     "ename": "IndentationError",
     "evalue": "unexpected indent (<ipython-input-113-d5f813a4ccaa>, line 6)",
     "output_type": "error",
     "traceback": [
      "\u001b[0;36m  File \u001b[0;32m\"<ipython-input-113-d5f813a4ccaa>\"\u001b[0;36m, line \u001b[0;32m6\u001b[0m\n\u001b[0;31m    else 'wpositive' if score > 0.3\u001b[0m\n\u001b[0m    ^\u001b[0m\n\u001b[0;31mIndentationError\u001b[0m\u001b[0;31m:\u001b[0m unexpected indent\n"
     ]
    }
   ],
   "source": [
    "# compute sentiment scores (polarity) and labels\n",
    "# 7 emotion level\n",
    "\n",
    "#sentiment_scores_tb = [round(TextBlob(article).sentiment.polarity, 3) for article in unique['text']]\n",
    "#sentiment_category_tb = ['positive' if score > 0 \n",
    "                             else 'wpositive' if score > 0.3\n",
    "                                 else 'spositive' if score > 0.6\n",
    "                                     else 'wnegative'if score >-0.3\n",
    "                                         else 'negative' if score > -0.6\n",
    "                                             else ' snegative' if score > -1 \n",
    "                                                  else 'neutral' \n",
    "                                                     for score in sentiment_scores_tb]\n",
    "\n",
    "\n"
   ]
  },
  {
   "cell_type": "code",
   "execution_count": 114,
   "metadata": {},
   "outputs": [],
   "source": [
    "sentiment_scores_tb = [round(TextBlob(article).sentiment.polarity, 3) for article in unique['text']]\n",
    "sentiment_category_tb = ['positive' if score > 0 \n",
    "                             else 'negative' if score < 0 \n",
    "                                 else 'neutral' \n",
    "                                     for score in sentiment_scores_tb]\n"
   ]
  },
  {
   "cell_type": "code",
   "execution_count": 115,
   "metadata": {},
   "outputs": [
    {
     "data": {
      "text/plain": [
       "1956"
      ]
     },
     "execution_count": 115,
     "metadata": {},
     "output_type": "execute_result"
    }
   ],
   "source": [
    "sentiment_category_tb.count('negative')"
   ]
  },
  {
   "cell_type": "code",
   "execution_count": 116,
   "metadata": {},
   "outputs": [
    {
     "data": {
      "text/plain": [
       "13191"
      ]
     },
     "execution_count": 116,
     "metadata": {},
     "output_type": "execute_result"
    }
   ],
   "source": [
    "sentiment_category_tb.count('positive')"
   ]
  },
  {
   "cell_type": "code",
   "execution_count": 117,
   "metadata": {},
   "outputs": [
    {
     "data": {
      "text/plain": [
       "9115"
      ]
     },
     "execution_count": 117,
     "metadata": {},
     "output_type": "execute_result"
    }
   ],
   "source": [
    "sentiment_category_tb.count('neutral')"
   ]
  },
  {
   "cell_type": "code",
   "execution_count": 118,
   "metadata": {},
   "outputs": [],
   "source": [
    "unique['sentimental label'] = sentiment_category_tb\n",
    "unique['sentimental score'] = sentiment_scores_tb"
   ]
  },
  {
   "cell_type": "code",
   "execution_count": 119,
   "metadata": {},
   "outputs": [
    {
     "data": {
      "text/html": [
       "<div>\n",
       "<style scoped>\n",
       "    .dataframe tbody tr th:only-of-type {\n",
       "        vertical-align: middle;\n",
       "    }\n",
       "\n",
       "    .dataframe tbody tr th {\n",
       "        vertical-align: top;\n",
       "    }\n",
       "\n",
       "    .dataframe thead th {\n",
       "        text-align: right;\n",
       "    }\n",
       "</style>\n",
       "<table border=\"1\" class=\"dataframe\">\n",
       "  <thead>\n",
       "    <tr style=\"text-align: right;\">\n",
       "      <th></th>\n",
       "      <th>user</th>\n",
       "      <th>text</th>\n",
       "      <th>latitude</th>\n",
       "      <th>longitude</th>\n",
       "      <th>sentimental label</th>\n",
       "      <th>sentimental score</th>\n",
       "    </tr>\n",
       "  </thead>\n",
       "  <tbody>\n",
       "    <tr>\n",
       "      <th>0</th>\n",
       "      <td>NY_StudioSchool</td>\n",
       "      <td>Join us at the NYSS DUMBO Sculpture Studio and...</td>\n",
       "      <td>40.704102</td>\n",
       "      <td>-73.987068</td>\n",
       "      <td>neutral</td>\n",
       "      <td>0.000</td>\n",
       "    </tr>\n",
       "    <tr>\n",
       "      <th>1</th>\n",
       "      <td>delablanca4life</td>\n",
       "      <td>New look and journey ❤🙏🏼❤ .. Yesterday her dau...</td>\n",
       "      <td>40.679125</td>\n",
       "      <td>-73.973817</td>\n",
       "      <td>negative</td>\n",
       "      <td>-0.282</td>\n",
       "    </tr>\n",
       "    <tr>\n",
       "      <th>2</th>\n",
       "      <td>iamjennifair</td>\n",
       "      <td>Mommy I’m on TV!!!! 😩😍😭🙌🏽 @brictv that is ❤️❤️...</td>\n",
       "      <td>40.688340</td>\n",
       "      <td>-73.979140</td>\n",
       "      <td>negative</td>\n",
       "      <td>-0.433</td>\n",
       "    </tr>\n",
       "    <tr>\n",
       "      <th>3</th>\n",
       "      <td>stephenaaron05</td>\n",
       "      <td>I'm at MTA Subway - R Train - @nyctsubwayscoop...</td>\n",
       "      <td>40.690547</td>\n",
       "      <td>-73.981869</td>\n",
       "      <td>positive</td>\n",
       "      <td>0.136</td>\n",
       "    </tr>\n",
       "    <tr>\n",
       "      <th>4</th>\n",
       "      <td>CetraRuddy</td>\n",
       "      <td>Every day is earth day when you’re surrounded ...</td>\n",
       "      <td>40.691520</td>\n",
       "      <td>-73.990610</td>\n",
       "      <td>negative</td>\n",
       "      <td>-0.250</td>\n",
       "    </tr>\n",
       "  </tbody>\n",
       "</table>\n",
       "</div>"
      ],
      "text/plain": [
       "              user                                               text  \\\n",
       "0  NY_StudioSchool  Join us at the NYSS DUMBO Sculpture Studio and...   \n",
       "1  delablanca4life  New look and journey ❤🙏🏼❤ .. Yesterday her dau...   \n",
       "2     iamjennifair  Mommy I’m on TV!!!! 😩😍😭🙌🏽 @brictv that is ❤️❤️...   \n",
       "3   stephenaaron05  I'm at MTA Subway - R Train - @nyctsubwayscoop...   \n",
       "4       CetraRuddy  Every day is earth day when you’re surrounded ...   \n",
       "\n",
       "    latitude  longitude sentimental label  sentimental score  \n",
       "0  40.704102 -73.987068           neutral              0.000  \n",
       "1  40.679125 -73.973817          negative             -0.282  \n",
       "2  40.688340 -73.979140          negative             -0.433  \n",
       "3  40.690547 -73.981869          positive              0.136  \n",
       "4  40.691520 -73.990610          negative             -0.250  "
      ]
     },
     "execution_count": 119,
     "metadata": {},
     "output_type": "execute_result"
    }
   ],
   "source": [
    "#unique = data.drop(['Unnamed: 0'], axis=1)\n",
    "unique.head()"
   ]
  },
  {
   "cell_type": "code",
   "execution_count": 120,
   "metadata": {},
   "outputs": [
    {
     "data": {
      "text/html": [
       "<div>\n",
       "<style scoped>\n",
       "    .dataframe tbody tr th:only-of-type {\n",
       "        vertical-align: middle;\n",
       "    }\n",
       "\n",
       "    .dataframe tbody tr th {\n",
       "        vertical-align: top;\n",
       "    }\n",
       "\n",
       "    .dataframe thead th {\n",
       "        text-align: right;\n",
       "    }\n",
       "</style>\n",
       "<table border=\"1\" class=\"dataframe\">\n",
       "  <thead>\n",
       "    <tr style=\"text-align: right;\">\n",
       "      <th></th>\n",
       "      <th>user</th>\n",
       "      <th>text</th>\n",
       "      <th>latitude</th>\n",
       "      <th>longitude</th>\n",
       "      <th>sentimental label</th>\n",
       "      <th>sentimental score</th>\n",
       "    </tr>\n",
       "  </thead>\n",
       "  <tbody>\n",
       "    <tr>\n",
       "      <th>0</th>\n",
       "      <td>NY_StudioSchool</td>\n",
       "      <td>Join us at the NYSS DUMBO Sculpture Studio and...</td>\n",
       "      <td>40.704102</td>\n",
       "      <td>-73.987068</td>\n",
       "      <td>neutral</td>\n",
       "      <td>0.000</td>\n",
       "    </tr>\n",
       "    <tr>\n",
       "      <th>1</th>\n",
       "      <td>delablanca4life</td>\n",
       "      <td>New look and journey ❤🙏🏼❤ .. Yesterday her dau...</td>\n",
       "      <td>40.679125</td>\n",
       "      <td>-73.973817</td>\n",
       "      <td>negative</td>\n",
       "      <td>-0.282</td>\n",
       "    </tr>\n",
       "    <tr>\n",
       "      <th>2</th>\n",
       "      <td>iamjennifair</td>\n",
       "      <td>Mommy I’m on TV!!!! 😩😍😭🙌🏽 @brictv that is ❤️❤️...</td>\n",
       "      <td>40.688340</td>\n",
       "      <td>-73.979140</td>\n",
       "      <td>negative</td>\n",
       "      <td>-0.433</td>\n",
       "    </tr>\n",
       "    <tr>\n",
       "      <th>3</th>\n",
       "      <td>stephenaaron05</td>\n",
       "      <td>I'm at MTA Subway - R Train - @nyctsubwayscoop...</td>\n",
       "      <td>40.690547</td>\n",
       "      <td>-73.981869</td>\n",
       "      <td>positive</td>\n",
       "      <td>0.136</td>\n",
       "    </tr>\n",
       "    <tr>\n",
       "      <th>4</th>\n",
       "      <td>CetraRuddy</td>\n",
       "      <td>Every day is earth day when you’re surrounded ...</td>\n",
       "      <td>40.691520</td>\n",
       "      <td>-73.990610</td>\n",
       "      <td>negative</td>\n",
       "      <td>-0.250</td>\n",
       "    </tr>\n",
       "  </tbody>\n",
       "</table>\n",
       "</div>"
      ],
      "text/plain": [
       "              user                                               text  \\\n",
       "0  NY_StudioSchool  Join us at the NYSS DUMBO Sculpture Studio and...   \n",
       "1  delablanca4life  New look and journey ❤🙏🏼❤ .. Yesterday her dau...   \n",
       "2     iamjennifair  Mommy I’m on TV!!!! 😩😍😭🙌🏽 @brictv that is ❤️❤️...   \n",
       "3   stephenaaron05  I'm at MTA Subway - R Train - @nyctsubwayscoop...   \n",
       "4       CetraRuddy  Every day is earth day when you’re surrounded ...   \n",
       "\n",
       "    latitude  longitude sentimental label  sentimental score  \n",
       "0  40.704102 -73.987068           neutral              0.000  \n",
       "1  40.679125 -73.973817          negative             -0.282  \n",
       "2  40.688340 -73.979140          negative             -0.433  \n",
       "3  40.690547 -73.981869          positive              0.136  \n",
       "4  40.691520 -73.990610          negative             -0.250  "
      ]
     },
     "execution_count": 120,
     "metadata": {},
     "output_type": "execute_result"
    }
   ],
   "source": [
    "# Add label to dataset \n",
    "unique.head()"
   ]
  },
  {
   "cell_type": "code",
   "execution_count": 121,
   "metadata": {},
   "outputs": [],
   "source": [
    "unique.to_csv('unique_tweets_emotion.csv')"
   ]
  },
  {
   "cell_type": "markdown",
   "metadata": {},
   "source": [
    "## Sentiment Analysis notes \n",
    "\n",
    "### Two approach:\n",
    "### 1. Lexicon approach: tokenization \n",
    "### 2. Machine Learning Approach: use already labeled data "
   ]
  },
  {
   "cell_type": "code",
   "execution_count": 122,
   "metadata": {},
   "outputs": [
    {
     "data": {
      "text/html": [
       "<div>\n",
       "<style scoped>\n",
       "    .dataframe tbody tr th:only-of-type {\n",
       "        vertical-align: middle;\n",
       "    }\n",
       "\n",
       "    .dataframe tbody tr th {\n",
       "        vertical-align: top;\n",
       "    }\n",
       "\n",
       "    .dataframe thead th {\n",
       "        text-align: right;\n",
       "    }\n",
       "</style>\n",
       "<table border=\"1\" class=\"dataframe\">\n",
       "  <thead>\n",
       "    <tr style=\"text-align: right;\">\n",
       "      <th></th>\n",
       "      <th>user</th>\n",
       "      <th>text</th>\n",
       "      <th>latitude</th>\n",
       "      <th>longitude</th>\n",
       "      <th>sentimental label</th>\n",
       "      <th>sentimental score</th>\n",
       "    </tr>\n",
       "  </thead>\n",
       "  <tbody>\n",
       "    <tr>\n",
       "      <th>1</th>\n",
       "      <td>delablanca4life</td>\n",
       "      <td>New look and journey ❤🙏🏼❤ .. Yesterday her dau...</td>\n",
       "      <td>40.679125</td>\n",
       "      <td>-73.973817</td>\n",
       "      <td>negative</td>\n",
       "      <td>-0.282</td>\n",
       "    </tr>\n",
       "    <tr>\n",
       "      <th>2</th>\n",
       "      <td>iamjennifair</td>\n",
       "      <td>Mommy I’m on TV!!!! 😩😍😭🙌🏽 @brictv that is ❤️❤️...</td>\n",
       "      <td>40.688340</td>\n",
       "      <td>-73.979140</td>\n",
       "      <td>negative</td>\n",
       "      <td>-0.433</td>\n",
       "    </tr>\n",
       "    <tr>\n",
       "      <th>4</th>\n",
       "      <td>CetraRuddy</td>\n",
       "      <td>Every day is earth day when you’re surrounded ...</td>\n",
       "      <td>40.691520</td>\n",
       "      <td>-73.990610</td>\n",
       "      <td>negative</td>\n",
       "      <td>-0.250</td>\n",
       "    </tr>\n",
       "    <tr>\n",
       "      <th>19</th>\n",
       "      <td>katewallich</td>\n",
       "      <td>Applications for our YC Workshop in NYC @markm...</td>\n",
       "      <td>40.686880</td>\n",
       "      <td>-73.978880</td>\n",
       "      <td>negative</td>\n",
       "      <td>-0.125</td>\n",
       "    </tr>\n",
       "    <tr>\n",
       "      <th>23</th>\n",
       "      <td>MarcHadfield</td>\n",
       "      <td>I'm at Brooklyn Botanic Garden - Visitor Cente...</td>\n",
       "      <td>40.669348</td>\n",
       "      <td>-73.962838</td>\n",
       "      <td>negative</td>\n",
       "      <td>-0.100</td>\n",
       "    </tr>\n",
       "  </tbody>\n",
       "</table>\n",
       "</div>"
      ],
      "text/plain": [
       "               user                                               text  \\\n",
       "1   delablanca4life  New look and journey ❤🙏🏼❤ .. Yesterday her dau...   \n",
       "2      iamjennifair  Mommy I’m on TV!!!! 😩😍😭🙌🏽 @brictv that is ❤️❤️...   \n",
       "4        CetraRuddy  Every day is earth day when you’re surrounded ...   \n",
       "19      katewallich  Applications for our YC Workshop in NYC @markm...   \n",
       "23     MarcHadfield  I'm at Brooklyn Botanic Garden - Visitor Cente...   \n",
       "\n",
       "     latitude  longitude sentimental label  sentimental score  \n",
       "1   40.679125 -73.973817          negative             -0.282  \n",
       "2   40.688340 -73.979140          negative             -0.433  \n",
       "4   40.691520 -73.990610          negative             -0.250  \n",
       "19  40.686880 -73.978880          negative             -0.125  \n",
       "23  40.669348 -73.962838          negative             -0.100  "
      ]
     },
     "execution_count": 122,
     "metadata": {},
     "output_type": "execute_result"
    }
   ],
   "source": [
    "negative = unique.loc[unique['sentimental label'] == 'negative']\n",
    "negative.head()"
   ]
  },
  {
   "cell_type": "code",
   "execution_count": 123,
   "metadata": {},
   "outputs": [],
   "source": [
    "negative_1=negative.reset_index(drop=True)"
   ]
  },
  {
   "cell_type": "code",
   "execution_count": 124,
   "metadata": {},
   "outputs": [],
   "source": [
    "negative_1.to_csv('negative.csv')"
   ]
  },
  {
   "cell_type": "code",
   "execution_count": 133,
   "metadata": {},
   "outputs": [
    {
     "data": {
      "text/html": [
       "<div>\n",
       "<style scoped>\n",
       "    .dataframe tbody tr th:only-of-type {\n",
       "        vertical-align: middle;\n",
       "    }\n",
       "\n",
       "    .dataframe tbody tr th {\n",
       "        vertical-align: top;\n",
       "    }\n",
       "\n",
       "    .dataframe thead th {\n",
       "        text-align: right;\n",
       "    }\n",
       "</style>\n",
       "<table border=\"1\" class=\"dataframe\">\n",
       "  <thead>\n",
       "    <tr style=\"text-align: right;\">\n",
       "      <th></th>\n",
       "      <th>user</th>\n",
       "      <th>text</th>\n",
       "      <th>latitude</th>\n",
       "      <th>longitude</th>\n",
       "      <th>sentimental label</th>\n",
       "      <th>sentimental score</th>\n",
       "    </tr>\n",
       "  </thead>\n",
       "  <tbody>\n",
       "    <tr>\n",
       "      <th>3</th>\n",
       "      <td>stephenaaron05</td>\n",
       "      <td>I'm at MTA Subway - R Train - @nyctsubwayscoop...</td>\n",
       "      <td>40.690547</td>\n",
       "      <td>-73.981869</td>\n",
       "      <td>positive</td>\n",
       "      <td>0.136</td>\n",
       "    </tr>\n",
       "    <tr>\n",
       "      <th>10</th>\n",
       "      <td>pbump</td>\n",
       "      <td>A loyal reader asked how turnout rates from th...</td>\n",
       "      <td>40.672497</td>\n",
       "      <td>-73.956787</td>\n",
       "      <td>positive</td>\n",
       "      <td>0.111</td>\n",
       "    </tr>\n",
       "    <tr>\n",
       "      <th>12</th>\n",
       "      <td>DJNo3</td>\n",
       "      <td>This Sat the place to be is thesocialbutterfly...</td>\n",
       "      <td>40.681498</td>\n",
       "      <td>-73.965133</td>\n",
       "      <td>positive</td>\n",
       "      <td>0.400</td>\n",
       "    </tr>\n",
       "    <tr>\n",
       "      <th>13</th>\n",
       "      <td>delablanca4life</td>\n",
       "      <td>Hair cut for a Queen 👑\\nI love this woman vivi...</td>\n",
       "      <td>40.679125</td>\n",
       "      <td>-73.973817</td>\n",
       "      <td>positive</td>\n",
       "      <td>0.125</td>\n",
       "    </tr>\n",
       "    <tr>\n",
       "      <th>14</th>\n",
       "      <td>delablanca4life</td>\n",
       "      <td>Still gagging but... My dear sister best frien...</td>\n",
       "      <td>40.691334</td>\n",
       "      <td>-73.982593</td>\n",
       "      <td>positive</td>\n",
       "      <td>1.000</td>\n",
       "    </tr>\n",
       "  </tbody>\n",
       "</table>\n",
       "</div>"
      ],
      "text/plain": [
       "               user                                               text  \\\n",
       "3    stephenaaron05  I'm at MTA Subway - R Train - @nyctsubwayscoop...   \n",
       "10            pbump  A loyal reader asked how turnout rates from th...   \n",
       "12            DJNo3  This Sat the place to be is thesocialbutterfly...   \n",
       "13  delablanca4life  Hair cut for a Queen 👑\\nI love this woman vivi...   \n",
       "14  delablanca4life  Still gagging but... My dear sister best frien...   \n",
       "\n",
       "     latitude  longitude sentimental label  sentimental score  \n",
       "3   40.690547 -73.981869          positive              0.136  \n",
       "10  40.672497 -73.956787          positive              0.111  \n",
       "12  40.681498 -73.965133          positive              0.400  \n",
       "13  40.679125 -73.973817          positive              0.125  \n",
       "14  40.691334 -73.982593          positive              1.000  "
      ]
     },
     "execution_count": 133,
     "metadata": {},
     "output_type": "execute_result"
    }
   ],
   "source": [
    "positive = unique.loc[unique['sentimental label'] == 'positive']\n",
    "positive.head()"
   ]
  },
  {
   "cell_type": "code",
   "execution_count": 136,
   "metadata": {},
   "outputs": [],
   "source": [
    "positive_1=positive.reset_index(drop=True)"
   ]
  },
  {
   "cell_type": "code",
   "execution_count": 137,
   "metadata": {},
   "outputs": [],
   "source": [
    "positive_1.to_csv('positive.csv')"
   ]
  },
  {
   "cell_type": "code",
   "execution_count": null,
   "metadata": {},
   "outputs": [],
   "source": []
  },
  {
   "cell_type": "code",
   "execution_count": null,
   "metadata": {},
   "outputs": [],
   "source": []
  }
 ],
 "metadata": {
  "kernelspec": {
   "display_name": "Python 3",
   "language": "python",
   "name": "python3"
  },
  "language_info": {
   "codemirror_mode": {
    "name": "ipython",
    "version": 3
   },
   "file_extension": ".py",
   "mimetype": "text/x-python",
   "name": "python",
   "nbconvert_exporter": "python",
   "pygments_lexer": "ipython3",
   "version": "3.7.1"
  }
 },
 "nbformat": 4,
 "nbformat_minor": 2
}
