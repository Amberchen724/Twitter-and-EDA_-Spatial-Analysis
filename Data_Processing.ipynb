{
 "cells": [
  {
   "cell_type": "markdown",
   "metadata": {},
   "source": [
    "## This python script is for processing the GPS data\n",
    "#### Problem:\n",
    "##### The EDA data measure around 5 points per sec while the GPS data measure 1 point per sec. To make the two feature( EDA and GPS) consistent in terms of row number(For better mapping), we need to interpolate the data point of GPS data to match the datapoint from EDA data. \n",
    "#### Solution:\n",
    "##### Calculate average latitude longitude interval of each GPS data point and divide it by 4. Insert 3 additional rows between each two datapoint whose location data is calculated by assuming the speed between each two point is the same. The mathmatic expressions are the following(only the latitude part is shown, longitude part shoud be the same):\n",
    "###### <center> interval = [Lat<sub>(t+1)</sub>-Lat<sub>(t))</sub>] / 4</center> \n",
    "   \n",
    "######   <center> Lat<sub>(i1)</sub> = Lat<sub>(t)</sub>+  interval</center> \n",
    "   \n",
    "######   <center> Lat<sub>(i2)</sub> = Lat<sub>(t)</sub>+2*interval</center> \n",
    "   \n",
    "######  <center> Lat<sub>(i3)</sub> = Lat<sub>(t)</sub>+3*interval</center> \n",
    "######  <center> Lat<sub>(i1，2，3)</sub> is the row inserting between the two GPS datapoint\n",
    "\n",
    "#### Function:\n",
    "##### Insert row into the original DataFrame to expand the location data 4 times"
   ]
  },
  {
   "cell_type": "code",
   "execution_count": 1,
   "metadata": {},
   "outputs": [],
   "source": [
    "import pandas as pd"
   ]
  },
  {
   "cell_type": "markdown",
   "metadata": {},
   "source": [
    "### Data cleaning"
   ]
  },
  {
   "cell_type": "code",
   "execution_count": 2,
   "metadata": {},
   "outputs": [],
   "source": [
    "df = pd.read_csv('senseit_1_5_4.csv')"
   ]
  },
  {
   "cell_type": "code",
   "execution_count": 7,
   "metadata": {},
   "outputs": [],
   "source": [
    "index = (df['number']==0)"
   ]
  },
  {
   "cell_type": "code",
   "execution_count": 10,
   "metadata": {},
   "outputs": [],
   "source": [
    "df = df[index]"
   ]
  },
  {
   "cell_type": "code",
   "execution_count": 16,
   "metadata": {},
   "outputs": [
    {
     "data": {
      "text/plain": [
       "Index(['number', 'sound', 'Lat', 'Lon', 'Unnamed: 4', 'Unnamed: 5',\n",
       "       'Unnamed: 6', 'Unnamed: 7', 'Unnamed: 8'],\n",
       "      dtype='object')"
      ]
     },
     "execution_count": 16,
     "metadata": {},
     "output_type": "execute_result"
    }
   ],
   "source": [
    "df.columns"
   ]
  },
  {
   "cell_type": "code",
   "execution_count": 17,
   "metadata": {},
   "outputs": [
    {
     "name": "stderr",
     "output_type": "stream",
     "text": [
      "/anaconda3/lib/python3.6/site-packages/pandas/core/frame.py:3694: SettingWithCopyWarning: \n",
      "A value is trying to be set on a copy of a slice from a DataFrame\n",
      "\n",
      "See the caveats in the documentation: http://pandas.pydata.org/pandas-docs/stable/indexing.html#indexing-view-versus-copy\n",
      "  errors=errors)\n"
     ]
    }
   ],
   "source": [
    "df.drop(['number','sound','Unnamed: 4','Unnamed: 5','Unnamed: 6','Unnamed: 7','Unnamed: 8'],axis = 1, inplace = True)"
   ]
  },
  {
   "cell_type": "code",
   "execution_count": 19,
   "metadata": {},
   "outputs": [],
   "source": [
    "df.reset_index(inplace = True)"
   ]
  },
  {
   "cell_type": "markdown",
   "metadata": {},
   "source": [
    "### Setting the index list for matching\n"
   ]
  },
  {
   "cell_type": "code",
   "execution_count": 38,
   "metadata": {},
   "outputs": [],
   "source": [
    "indexlist = [i*4 for i in range(553)] #the number in range() should be the same as the total data point"
   ]
  },
  {
   "cell_type": "code",
   "execution_count": 33,
   "metadata": {},
   "outputs": [
    {
     "name": "stderr",
     "output_type": "stream",
     "text": [
      "/anaconda3/lib/python3.6/site-packages/pandas/core/frame.py:3694: SettingWithCopyWarning: \n",
      "A value is trying to be set on a copy of a slice from a DataFrame\n",
      "\n",
      "See the caveats in the documentation: http://pandas.pydata.org/pandas-docs/stable/indexing.html#indexing-view-versus-copy\n",
      "  errors=errors)\n"
     ]
    }
   ],
   "source": [
    "df.drop(['index'],axis = 1, inplace = True)"
   ]
  },
  {
   "cell_type": "code",
   "execution_count": 35,
   "metadata": {},
   "outputs": [],
   "source": [
    "df2 = df.copy()"
   ]
  },
  {
   "cell_type": "code",
   "execution_count": 52,
   "metadata": {},
   "outputs": [],
   "source": [
    "df2.reset_index(inplace= True)\n",
    "df2.drop('index',axis=1,inplace =True)"
   ]
  },
  {
   "cell_type": "code",
   "execution_count": 56,
   "metadata": {},
   "outputs": [],
   "source": [
    "df2.drop(['level_0'],axis=1,inplace = True)"
   ]
  },
  {
   "cell_type": "markdown",
   "metadata": {},
   "source": [
    "### Shift the data by one row down the calculate the interval"
   ]
  },
  {
   "cell_type": "code",
   "execution_count": 64,
   "metadata": {},
   "outputs": [],
   "source": [
    "df3 = df2.shift(periods=1)\n",
    "df2['Interval_lat']=df2['Lat']-df3['Lat']\n",
    "df2['Interval_lon']=df2['Lon']-df3['Lon']"
   ]
  },
  {
   "cell_type": "code",
   "execution_count": 78,
   "metadata": {},
   "outputs": [],
   "source": [
    "df2.index = df2.index*4"
   ]
  },
  {
   "cell_type": "markdown",
   "metadata": {},
   "source": [
    "### Interpolation"
   ]
  },
  {
   "cell_type": "code",
   "execution_count": 87,
   "metadata": {},
   "outputs": [],
   "source": [
    "for i in indexlist:\n",
    "    if i != 0:\n",
    "        #Calculte the interval for latitude and longitude\n",
    "        inv = df2.loc[i]['Interval_lat']/4 \n",
    "        inv2= df2.loc[i]['Interval_lon']/4\n",
    "        # Start from the previous one GPS datapoint to interploate\n",
    "        Lat = df2.loc[i-4]['Lat']\n",
    "        Lon = df2.loc[i-4]['Lon']\n",
    "        # Inserting three datapoint with equal interval\n",
    "        df2.loc[i-3]=[Lat+inv,Lon+inv,0,0]\n",
    "        df2.loc[i-2]=[Lat+2*inv,Lon+2*inv,0,0]\n",
    "        df2.loc[i-1]=[Lat+3*inv,Lon+3*inv,0,0]\n",
    "        "
   ]
  },
  {
   "cell_type": "code",
   "execution_count": 97,
   "metadata": {},
   "outputs": [],
   "source": [
    "df2.sort_index(inplace = True)"
   ]
  },
  {
   "cell_type": "code",
   "execution_count": null,
   "metadata": {},
   "outputs": [],
   "source": []
  }
 ],
 "metadata": {
  "kernelspec": {
   "display_name": "Python 3",
   "language": "python",
   "name": "python3"
  },
  "language_info": {
   "codemirror_mode": {
    "name": "ipython",
    "version": 3
   },
   "file_extension": ".py",
   "mimetype": "text/x-python",
   "name": "python",
   "nbconvert_exporter": "python",
   "pygments_lexer": "ipython3",
   "version": "3.7.1"
  }
 },
 "nbformat": 4,
 "nbformat_minor": 2
}
